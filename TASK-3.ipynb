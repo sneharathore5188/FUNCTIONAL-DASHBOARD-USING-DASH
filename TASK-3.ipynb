{
 "cells": [
  {
   "cell_type": "markdown",
   "id": "e7005859-c7f0-4d98-b00d-f71dd744b9d8",
   "metadata": {},
   "source": [
    "# FUNCTIONAL DASHBOARD USING DASH"
   ]
  },
  {
   "cell_type": "code",
   "execution_count": 19,
   "id": "138aa6f0-dfa4-4a22-9a96-ce05ecaed48b",
   "metadata": {},
   "outputs": [],
   "source": [
    "import dash\n",
    "from dash import dcc, html\n",
    "from dash.dependencies import Input, Output\n",
    "import pandas as pd\n",
    "import plotly.express as px"
   ]
  },
  {
   "cell_type": "code",
   "execution_count": 20,
   "id": "0b1c7ca0-01d6-42c5-9f2a-f5e040ce39d8",
   "metadata": {
    "collapsed": true,
    "jupyter": {
     "outputs_hidden": true
    }
   },
   "outputs": [
    {
     "name": "stdout",
     "output_type": "stream",
     "text": [
      "Requirement already satisfied: dash in c:\\users\\sneha\\appdata\\local\\programs\\python\\python311\\lib\\site-packages (2.18.2)\n",
      "Requirement already satisfied: plotly in c:\\users\\sneha\\appdata\\local\\programs\\python\\python311\\lib\\site-packages (6.0.0)\n",
      "Requirement already satisfied: Flask<3.1,>=1.0.4 in c:\\users\\sneha\\appdata\\local\\programs\\python\\python311\\lib\\site-packages (from dash) (3.0.3)\n",
      "Requirement already satisfied: Werkzeug<3.1 in c:\\users\\sneha\\appdata\\local\\programs\\python\\python311\\lib\\site-packages (from dash) (3.0.6)\n",
      "Requirement already satisfied: dash-html-components==2.0.0 in c:\\users\\sneha\\appdata\\local\\programs\\python\\python311\\lib\\site-packages (from dash) (2.0.0)\n",
      "Requirement already satisfied: dash-core-components==2.0.0 in c:\\users\\sneha\\appdata\\local\\programs\\python\\python311\\lib\\site-packages (from dash) (2.0.0)\n",
      "Requirement already satisfied: dash-table==5.0.0 in c:\\users\\sneha\\appdata\\local\\programs\\python\\python311\\lib\\site-packages (from dash) (5.0.0)\n",
      "Requirement already satisfied: importlib-metadata in c:\\users\\sneha\\appdata\\local\\programs\\python\\python311\\lib\\site-packages (from dash) (8.6.1)\n",
      "Requirement already satisfied: typing-extensions>=4.1.1 in c:\\users\\sneha\\appdata\\local\\programs\\python\\python311\\lib\\site-packages (from dash) (4.12.2)\n",
      "Requirement already satisfied: requests in c:\\users\\sneha\\appdata\\local\\programs\\python\\python311\\lib\\site-packages (from dash) (2.32.3)\n",
      "Requirement already satisfied: retrying in c:\\users\\sneha\\appdata\\local\\programs\\python\\python311\\lib\\site-packages (from dash) (1.3.4)\n",
      "Requirement already satisfied: nest-asyncio in c:\\users\\sneha\\appdata\\local\\programs\\python\\python311\\lib\\site-packages (from dash) (1.6.0)\n",
      "Requirement already satisfied: setuptools in c:\\users\\sneha\\appdata\\local\\programs\\python\\python311\\lib\\site-packages (from dash) (65.5.0)\n",
      "Requirement already satisfied: narwhals>=1.15.1 in c:\\users\\sneha\\appdata\\local\\programs\\python\\python311\\lib\\site-packages (from plotly) (1.28.0)\n",
      "Requirement already satisfied: packaging in c:\\users\\sneha\\appdata\\local\\programs\\python\\python311\\lib\\site-packages (from plotly) (24.2)\n",
      "Requirement already satisfied: Jinja2>=3.1.2 in c:\\users\\sneha\\appdata\\local\\programs\\python\\python311\\lib\\site-packages (from Flask<3.1,>=1.0.4->dash) (3.1.5)\n",
      "Requirement already satisfied: itsdangerous>=2.1.2 in c:\\users\\sneha\\appdata\\local\\programs\\python\\python311\\lib\\site-packages (from Flask<3.1,>=1.0.4->dash) (2.2.0)\n",
      "Requirement already satisfied: click>=8.1.3 in c:\\users\\sneha\\appdata\\local\\programs\\python\\python311\\lib\\site-packages (from Flask<3.1,>=1.0.4->dash) (8.1.8)\n",
      "Requirement already satisfied: blinker>=1.6.2 in c:\\users\\sneha\\appdata\\local\\programs\\python\\python311\\lib\\site-packages (from Flask<3.1,>=1.0.4->dash) (1.9.0)\n",
      "Requirement already satisfied: MarkupSafe>=2.1.1 in c:\\users\\sneha\\appdata\\local\\programs\\python\\python311\\lib\\site-packages (from Werkzeug<3.1->dash) (3.0.2)\n",
      "Requirement already satisfied: zipp>=3.20 in c:\\users\\sneha\\appdata\\local\\programs\\python\\python311\\lib\\site-packages (from importlib-metadata->dash) (3.21.0)\n",
      "Requirement already satisfied: charset-normalizer<4,>=2 in c:\\users\\sneha\\appdata\\local\\programs\\python\\python311\\lib\\site-packages (from requests->dash) (3.4.1)\n",
      "Requirement already satisfied: idna<4,>=2.5 in c:\\users\\sneha\\appdata\\local\\programs\\python\\python311\\lib\\site-packages (from requests->dash) (3.10)\n",
      "Requirement already satisfied: urllib3<3,>=1.21.1 in c:\\users\\sneha\\appdata\\local\\programs\\python\\python311\\lib\\site-packages (from requests->dash) (2.3.0)\n",
      "Requirement already satisfied: certifi>=2017.4.17 in c:\\users\\sneha\\appdata\\local\\programs\\python\\python311\\lib\\site-packages (from requests->dash) (2024.12.14)\n",
      "Requirement already satisfied: six>=1.7.0 in c:\\users\\sneha\\appdata\\local\\programs\\python\\python311\\lib\\site-packages (from retrying->dash) (1.17.0)\n",
      "Requirement already satisfied: colorama in c:\\users\\sneha\\appdata\\local\\programs\\python\\python311\\lib\\site-packages (from click>=8.1.3->Flask<3.1,>=1.0.4->dash) (0.4.6)\n",
      "Note: you may need to restart the kernel to use updated packages.\n"
     ]
    },
    {
     "name": "stderr",
     "output_type": "stream",
     "text": [
      "\n",
      "[notice] A new release of pip is available: 25.0 -> 25.0.1\n",
      "[notice] To update, run: C:\\Users\\sneha\\AppData\\Local\\Programs\\Python\\Python311\\python.exe -m pip install --upgrade pip\n"
     ]
    }
   ],
   "source": [
    "pip install dash plotly\n"
   ]
  },
  {
   "cell_type": "code",
   "execution_count": 13,
   "id": "1a2a1972-7aef-4a56-ad93-d04cdc5d8765",
   "metadata": {},
   "outputs": [],
   "source": [
    "import dash\n",
    "from dash import dcc, html\n",
    "from dash.dependencies import Input, Output\n",
    "import pandas as pd\n",
    "import plotly.express as px"
   ]
  },
  {
   "cell_type": "markdown",
   "id": "a8fca69e-ea9c-452d-8a9e-ef1b1545128e",
   "metadata": {},
   "source": [
    "### Load the Iris dataset"
   ]
  },
  {
   "cell_type": "code",
   "execution_count": 14,
   "id": "34c8d630-ad0d-42e5-a7c8-31671050c18b",
   "metadata": {},
   "outputs": [],
   "source": [
    "url = \"https://raw.githubusercontent.com/mwaskom/seaborn-data/master/iris.csv\"\n",
    "df = pd.read_csv(url)"
   ]
  },
  {
   "cell_type": "markdown",
   "id": "292b783c-ac52-43e8-8c00-006eab2f6b5c",
   "metadata": {},
   "source": [
    "### Initialize Dash app"
   ]
  },
  {
   "cell_type": "code",
   "execution_count": 15,
   "id": "2386d30b-f1ce-42fd-a460-b828f930be46",
   "metadata": {},
   "outputs": [],
   "source": [
    "app = dash.Dash(__name__)"
   ]
  },
  {
   "cell_type": "markdown",
   "id": "d93a8a33-29e9-4bfe-91be-606e1dedaf50",
   "metadata": {},
   "source": [
    "### Layout of the dashboard"
   ]
  },
  {
   "cell_type": "code",
   "execution_count": 16,
   "id": "faedd5db-f0e9-438d-9a04-12d26d5e011f",
   "metadata": {},
   "outputs": [],
   "source": [
    "app.layout = html.Div([\n",
    "    html.H1(\"Iris Dataset Interactive Dashboard\", style={'textAlign': 'center'}),\n",
    "    \n",
    "    dcc.Dropdown(\n",
    "        id=\"species-dropdown\",\n",
    "        options=[{'label': species, 'value': species} for species in df['species'].unique()],\n",
    "        value=df['species'].unique()[0],\n",
    "        clearable=False,\n",
    "        style={\"width\": \"50%\", \"margin\": \"auto\"}\n",
    "    ),\n",
    "    \n",
    "    dcc.Graph(id=\"scatter-plot\"),\n",
    "    dcc.Graph(id=\"histogram\"),\n",
    "    dcc.Graph(id=\"pie-chart\")\n",
    "])"
   ]
  },
  {
   "cell_type": "markdown",
   "id": "ad4d023d-7fe2-41dd-8863-9a94f7e07f90",
   "metadata": {},
   "source": [
    "### Callbacks to update graphs"
   ]
  },
  {
   "cell_type": "code",
   "execution_count": 17,
   "id": "4a9c674b-03e3-4c94-a40c-0dd5fcc9bf40",
   "metadata": {},
   "outputs": [],
   "source": [
    "@app.callback(\n",
    "    [Output(\"scatter-plot\", \"figure\"),\n",
    "     Output(\"histogram\", \"figure\"),\n",
    "     Output(\"pie-chart\", \"figure\")],\n",
    "    [Input(\"species-dropdown\", \"value\")]\n",
    ")\n",
    "def update_graphs(selected_species):\n",
    "    filtered_df = df[df['species'] == selected_species]\n",
    "    \n",
    "    scatter_fig = px.scatter(filtered_df, x=\"sepal_length\", y=\"sepal_width\",\n",
    "                             color=\"species\", title=f\"Sepal Length vs Sepal Width - {selected_species}\")\n",
    "    \n",
    "    hist_fig = px.histogram(filtered_df, x=\"petal_length\", nbins=20,\n",
    "                            title=f\"Petal Length Distribution - {selected_species}\", color=\"species\")\n",
    "    \n",
    "    pie_fig = px.pie(df, names=\"species\", title=\"Overall Species Distribution\")\n",
    "    \n",
    "    return scatter_fig, hist_fig, pie_fig"
   ]
  },
  {
   "cell_type": "markdown",
   "id": "d82d33f7-19a1-4341-a689-3083a5bb5c8c",
   "metadata": {},
   "source": [
    "### Run the app"
   ]
  },
  {
   "cell_type": "code",
   "execution_count": 18,
   "id": "07ffab51-740b-4ac6-ba7e-4fbce43e444e",
   "metadata": {},
   "outputs": [
    {
     "data": {
      "text/html": [
       "\n",
       "        <iframe\n",
       "            width=\"100%\"\n",
       "            height=\"650\"\n",
       "            src=\"http://127.0.0.1:8050/\"\n",
       "            frameborder=\"0\"\n",
       "            allowfullscreen\n",
       "            \n",
       "        ></iframe>\n",
       "        "
      ],
      "text/plain": [
       "<IPython.lib.display.IFrame at 0x1fd15715c10>"
      ]
     },
     "metadata": {},
     "output_type": "display_data"
    }
   ],
   "source": [
    "if __name__ == \"__main__\":\n",
    "    app.run_server(debug=True)"
   ]
  },
  {
   "cell_type": "code",
   "execution_count": null,
   "id": "2998926c-7ca7-4874-b048-96838708b2da",
   "metadata": {},
   "outputs": [],
   "source": []
  }
 ],
 "metadata": {
  "kernelspec": {
   "display_name": "Python 3 (ipykernel)",
   "language": "python",
   "name": "python3"
  },
  "language_info": {
   "codemirror_mode": {
    "name": "ipython",
    "version": 3
   },
   "file_extension": ".py",
   "mimetype": "text/x-python",
   "name": "python",
   "nbconvert_exporter": "python",
   "pygments_lexer": "ipython3",
   "version": "3.11.9"
  }
 },
 "nbformat": 4,
 "nbformat_minor": 5
}
